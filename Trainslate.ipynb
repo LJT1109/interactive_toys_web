{
 "cells": [
  {
   "cell_type": "code",
   "execution_count": 9,
   "metadata": {},
   "outputs": [
    {
     "data": {
      "text/plain": [
       "'所有文件已轉換為繁體中文（台灣用語）。'"
      ]
     },
     "execution_count": 9,
     "metadata": {},
     "output_type": "execute_result"
    }
   ],
   "source": [
    "from zhconv import convert\n",
    "import codecs\n",
    "import os\n",
    "\n",
    "story_folder = 'Story'\n",
    "story_files = os.listdir(story_folder)\n",
    "\n",
    "\n",
    "# Function to convert Simplified Chinese to Traditional Chinese (Taiwanese usage)\n",
    "def convert_to_traditional_chinese_taiwan(text):\n",
    "    return convert(text, 'zh-tw')\n",
    "\n",
    "# Process each file: convert its content and write it back\n",
    "for file in story_files:\n",
    "    file_path = os.path.join(story_folder, file)\n",
    "    \n",
    "    # Read the content of the file\n",
    "    with codecs.open(file_path, 'r', encoding='utf-8') as file:\n",
    "        content = file.read()\n",
    "    \n",
    "    # Convert to Traditional Chinese (Taiwanese usage)\n",
    "    converted_content = convert_to_traditional_chinese_taiwan(content)\n",
    "    converted_name = convert_to_traditional_chinese_taiwan(file.name)\n",
    "    \n",
    "    # Write the converted content back to the file\n",
    "    with codecs.open(file_path, 'w', encoding='utf-8') as file:\n",
    "        file.write(converted_content)\n",
    "        \n",
    "    # Rename the file\n",
    "    os.rename(file_path, converted_name)\n",
    "\n",
    "# Confirm completion\n",
    "\"所有文件已轉換為繁體中文（台灣用語）。\"\n"
   ]
  }
 ],
 "metadata": {
  "kernelspec": {
   "display_name": "Python 3",
   "language": "python",
   "name": "python3"
  },
  "language_info": {
   "codemirror_mode": {
    "name": "ipython",
    "version": 3
   },
   "file_extension": ".py",
   "mimetype": "text/x-python",
   "name": "python",
   "nbconvert_exporter": "python",
   "pygments_lexer": "ipython3",
   "version": "3.10.13"
  }
 },
 "nbformat": 4,
 "nbformat_minor": 2
}
